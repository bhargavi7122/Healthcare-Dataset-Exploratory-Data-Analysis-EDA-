{
 "cells": [
  {
   "cell_type": "markdown",
   "id": "0d994dc4-1f10-446b-9c16-2382e9fb54a3",
   "metadata": {},
   "source": [
    "### Phase-1 : Data Exploration & Initial Assessment "
   ]
  },
  {
   "cell_type": "code",
   "execution_count": 1,
   "id": "15dd9c69-a5eb-40b8-bc4a-11a9f92008f4",
   "metadata": {
    "execution": {
     "iopub.execute_input": "2025-09-07T08:47:52.137313Z",
     "iopub.status.busy": "2025-09-07T08:47:52.136313Z",
     "iopub.status.idle": "2025-09-07T08:47:54.706835Z",
     "shell.execute_reply": "2025-09-07T08:47:54.705827Z",
     "shell.execute_reply.started": "2025-09-07T08:47:52.137313Z"
    }
   },
   "outputs": [],
   "source": [
    "import pandas as pd\n",
    "import numpy as np"
   ]
  },
  {
   "cell_type": "markdown",
   "id": "2e41cf3d-b9c6-41e1-b0bb-3f6ffcca543e",
   "metadata": {},
   "source": [
    "###  Load dataset "
   ]
  },
  {
   "cell_type": "code",
   "execution_count": 2,
   "id": "45bfbfe2-7c63-41ff-8890-d32c5927d1c7",
   "metadata": {
    "execution": {
     "iopub.execute_input": "2025-09-07T08:47:54.714423Z",
     "iopub.status.busy": "2025-09-07T08:47:54.712961Z",
     "iopub.status.idle": "2025-09-07T08:47:55.196282Z",
     "shell.execute_reply": "2025-09-07T08:47:55.194271Z",
     "shell.execute_reply.started": "2025-09-07T08:47:54.714423Z"
    }
   },
   "outputs": [],
   "source": [
    "data=pd.read_csv(r\"D:/Dataset/healthcare.csv\")"
   ]
  },
  {
   "cell_type": "markdown",
   "id": "dd237641-53c2-44ed-9170-72c6058a9015",
   "metadata": {},
   "source": [
    "#### Observation: \n",
    "- Dataset has been loaded successfully using pd.read_csv()\n",
    "- Now the dataset is ready for exploration."
   ]
  },
  {
   "cell_type": "markdown",
   "id": "242be672-e02c-4767-9fa8-658a16e2f61c",
   "metadata": {},
   "source": [
    "#### Why this dataset?\n",
    "- This dataset was chosen because it captures key patient, medical, and financial factors affecting healthcare delivery. It helps identify treatment patterns, monitor hospital performance, and build predictive models, making it highly valuable for real-world applications in healthcare management, insurance, and patient care optimization."
   ]
  },
  {
   "cell_type": "code",
   "execution_count": 3,
   "id": "83f11d78-337e-439c-943f-ff1f0487792c",
   "metadata": {
    "execution": {
     "iopub.execute_input": "2025-09-07T08:47:55.198535Z",
     "iopub.status.busy": "2025-09-07T08:47:55.198535Z",
     "iopub.status.idle": "2025-09-07T08:47:55.210525Z",
     "shell.execute_reply": "2025-09-07T08:47:55.208515Z",
     "shell.execute_reply.started": "2025-09-07T08:47:55.198535Z"
    }
   },
   "outputs": [],
   "source": [
    "df=pd.DataFrame(data)"
   ]
  },
  {
   "cell_type": "markdown",
   "id": "13f2c404-3a30-4e89-b86d-c6bd2b7e9a9a",
   "metadata": {},
   "source": [
    "### Understanding the Structure of the Dataset "
   ]
  },
  {
   "cell_type": "code",
   "execution_count": 4,
   "id": "3b31b117-8157-4d4b-8571-bc38dd1f5627",
   "metadata": {
    "execution": {
     "iopub.execute_input": "2025-09-07T08:47:55.216310Z",
     "iopub.status.busy": "2025-09-07T08:47:55.214899Z",
     "iopub.status.idle": "2025-09-07T08:47:55.234133Z",
     "shell.execute_reply": "2025-09-07T08:47:55.234133Z",
     "shell.execute_reply.started": "2025-09-07T08:47:55.216310Z"
    }
   },
   "outputs": [
    {
     "data": {
      "text/plain": [
       "(55500, 15)"
      ]
     },
     "execution_count": 4,
     "metadata": {},
     "output_type": "execute_result"
    }
   ],
   "source": [
    "df.shape"
   ]
  },
  {
   "cell_type": "markdown",
   "id": "11c5a7e8-6b7d-4c44-91a0-aafb8d7beb5f",
   "metadata": {},
   "source": [
    "#### Observation: \n",
    "The dataset contains 55500 rows and 15 columns representing Healthcare Data Analysis-Insights from Patient Records"
   ]
  },
  {
   "cell_type": "markdown",
   "id": "fe3708d7-5d9d-49a5-8143-bcf070586b14",
   "metadata": {},
   "source": [
    "### Previewing the first few rows"
   ]
  },
  {
   "cell_type": "code",
   "execution_count": 5,
   "id": "0caef06c-38e5-470b-8d17-3229a136e65b",
   "metadata": {
    "execution": {
     "iopub.execute_input": "2025-09-07T08:47:55.238916Z",
     "iopub.status.busy": "2025-09-07T08:47:55.237592Z",
     "iopub.status.idle": "2025-09-07T08:47:55.284391Z",
     "shell.execute_reply": "2025-09-07T08:47:55.283380Z",
     "shell.execute_reply.started": "2025-09-07T08:47:55.238916Z"
    }
   },
   "outputs": [
    {
     "data": {
      "text/html": [
       "<div>\n",
       "<style scoped>\n",
       "    .dataframe tbody tr th:only-of-type {\n",
       "        vertical-align: middle;\n",
       "    }\n",
       "\n",
       "    .dataframe tbody tr th {\n",
       "        vertical-align: top;\n",
       "    }\n",
       "\n",
       "    .dataframe thead th {\n",
       "        text-align: right;\n",
       "    }\n",
       "</style>\n",
       "<table border=\"1\" class=\"dataframe\">\n",
       "  <thead>\n",
       "    <tr style=\"text-align: right;\">\n",
       "      <th></th>\n",
       "      <th>Name</th>\n",
       "      <th>Age</th>\n",
       "      <th>Gender</th>\n",
       "      <th>Blood Type</th>\n",
       "      <th>Medical Condition</th>\n",
       "      <th>Date of Admission</th>\n",
       "      <th>Doctor</th>\n",
       "      <th>Hospital</th>\n",
       "      <th>Insurance Provider</th>\n",
       "      <th>Billing Amount</th>\n",
       "      <th>Room Number</th>\n",
       "      <th>Admission Type</th>\n",
       "      <th>Discharge Date</th>\n",
       "      <th>Medication</th>\n",
       "      <th>Test Results</th>\n",
       "    </tr>\n",
       "  </thead>\n",
       "  <tbody>\n",
       "    <tr>\n",
       "      <th>0</th>\n",
       "      <td>Bobby JacksOn</td>\n",
       "      <td>30</td>\n",
       "      <td>Male</td>\n",
       "      <td>B-</td>\n",
       "      <td>Cancer</td>\n",
       "      <td>31-01-2024</td>\n",
       "      <td>Matthew Smith</td>\n",
       "      <td>Sons and Miller</td>\n",
       "      <td>Blue Cross</td>\n",
       "      <td>18856.28131</td>\n",
       "      <td>328</td>\n",
       "      <td>Urgent</td>\n",
       "      <td>02-02-2024</td>\n",
       "      <td>Paracetamol</td>\n",
       "      <td>Normal</td>\n",
       "    </tr>\n",
       "    <tr>\n",
       "      <th>1</th>\n",
       "      <td>LesLie TErRy</td>\n",
       "      <td>62</td>\n",
       "      <td>Male</td>\n",
       "      <td>A+</td>\n",
       "      <td>Obesity</td>\n",
       "      <td>20-08-2019</td>\n",
       "      <td>Samantha Davies</td>\n",
       "      <td>Kim Inc</td>\n",
       "      <td>Medicare</td>\n",
       "      <td>33643.32729</td>\n",
       "      <td>265</td>\n",
       "      <td>Emergency</td>\n",
       "      <td>26-08-2019</td>\n",
       "      <td>Ibuprofen</td>\n",
       "      <td>Inconclusive</td>\n",
       "    </tr>\n",
       "    <tr>\n",
       "      <th>2</th>\n",
       "      <td>DaNnY sMitH</td>\n",
       "      <td>76</td>\n",
       "      <td>Female</td>\n",
       "      <td>A-</td>\n",
       "      <td>Obesity</td>\n",
       "      <td>22-09-2022</td>\n",
       "      <td>Tiffany Mitchell</td>\n",
       "      <td>Cook PLC</td>\n",
       "      <td>Aetna</td>\n",
       "      <td>27955.09608</td>\n",
       "      <td>205</td>\n",
       "      <td>Emergency</td>\n",
       "      <td>07-10-2022</td>\n",
       "      <td>Aspirin</td>\n",
       "      <td>Normal</td>\n",
       "    </tr>\n",
       "    <tr>\n",
       "      <th>3</th>\n",
       "      <td>andrEw waTtS</td>\n",
       "      <td>28</td>\n",
       "      <td>Female</td>\n",
       "      <td>O+</td>\n",
       "      <td>Diabetes</td>\n",
       "      <td>18-11-2020</td>\n",
       "      <td>Kevin Wells</td>\n",
       "      <td>Hernandez Rogers and Vang,</td>\n",
       "      <td>Medicare</td>\n",
       "      <td>37909.78241</td>\n",
       "      <td>450</td>\n",
       "      <td>Elective</td>\n",
       "      <td>18-12-2020</td>\n",
       "      <td>Ibuprofen</td>\n",
       "      <td>Abnormal</td>\n",
       "    </tr>\n",
       "    <tr>\n",
       "      <th>4</th>\n",
       "      <td>adrIENNE bEll</td>\n",
       "      <td>43</td>\n",
       "      <td>Female</td>\n",
       "      <td>AB+</td>\n",
       "      <td>Cancer</td>\n",
       "      <td>19-09-2022</td>\n",
       "      <td>Kathleen Hanna</td>\n",
       "      <td>White-White</td>\n",
       "      <td>Aetna</td>\n",
       "      <td>14238.31781</td>\n",
       "      <td>458</td>\n",
       "      <td>Urgent</td>\n",
       "      <td>09-10-2022</td>\n",
       "      <td>Penicillin</td>\n",
       "      <td>Abnormal</td>\n",
       "    </tr>\n",
       "  </tbody>\n",
       "</table>\n",
       "</div>"
      ],
      "text/plain": [
       "            Name  Age  Gender Blood Type Medical Condition Date of Admission  \\\n",
       "0  Bobby JacksOn   30    Male         B-            Cancer        31-01-2024   \n",
       "1   LesLie TErRy   62    Male         A+           Obesity        20-08-2019   \n",
       "2    DaNnY sMitH   76  Female         A-           Obesity        22-09-2022   \n",
       "3   andrEw waTtS   28  Female         O+          Diabetes        18-11-2020   \n",
       "4  adrIENNE bEll   43  Female        AB+            Cancer        19-09-2022   \n",
       "\n",
       "             Doctor                    Hospital Insurance Provider  \\\n",
       "0     Matthew Smith             Sons and Miller         Blue Cross   \n",
       "1   Samantha Davies                     Kim Inc           Medicare   \n",
       "2  Tiffany Mitchell                    Cook PLC              Aetna   \n",
       "3       Kevin Wells  Hernandez Rogers and Vang,           Medicare   \n",
       "4    Kathleen Hanna                 White-White              Aetna   \n",
       "\n",
       "   Billing Amount  Room Number Admission Type Discharge Date   Medication  \\\n",
       "0     18856.28131          328         Urgent     02-02-2024  Paracetamol   \n",
       "1     33643.32729          265      Emergency     26-08-2019    Ibuprofen   \n",
       "2     27955.09608          205      Emergency     07-10-2022      Aspirin   \n",
       "3     37909.78241          450       Elective     18-12-2020    Ibuprofen   \n",
       "4     14238.31781          458         Urgent     09-10-2022   Penicillin   \n",
       "\n",
       "   Test Results  \n",
       "0        Normal  \n",
       "1  Inconclusive  \n",
       "2        Normal  \n",
       "3      Abnormal  \n",
       "4      Abnormal  "
      ]
     },
     "execution_count": 5,
     "metadata": {},
     "output_type": "execute_result"
    }
   ],
   "source": [
    "df.head()"
   ]
  },
  {
   "cell_type": "markdown",
   "id": "73d2bc32-ada4-4953-baa3-e552200154fb",
   "metadata": {},
   "source": [
    "#### Observation: \n",
    "- The preview shows the first few rows of the data and helps us check if the file loaded correctly.\n",
    "- The data looks structured "
   ]
  },
  {
   "cell_type": "markdown",
   "id": "3a99dc5c-1fda-488b-8606-bb686d4ba780",
   "metadata": {},
   "source": [
    "### Dataset Structre and Data Types"
   ]
  },
  {
   "cell_type": "code",
   "execution_count": 6,
   "id": "c09009f5-afb9-40b8-92b5-d9bad6a3c490",
   "metadata": {
    "execution": {
     "iopub.execute_input": "2025-09-07T08:47:55.288387Z",
     "iopub.status.busy": "2025-09-07T08:47:55.286389Z",
     "iopub.status.idle": "2025-09-07T08:47:55.381820Z",
     "shell.execute_reply": "2025-09-07T08:47:55.380497Z",
     "shell.execute_reply.started": "2025-09-07T08:47:55.288387Z"
    }
   },
   "outputs": [
    {
     "name": "stdout",
     "output_type": "stream",
     "text": [
      "<class 'pandas.core.frame.DataFrame'>\n",
      "RangeIndex: 55500 entries, 0 to 55499\n",
      "Data columns (total 15 columns):\n",
      " #   Column              Non-Null Count  Dtype  \n",
      "---  ------              --------------  -----  \n",
      " 0   Name                55500 non-null  object \n",
      " 1   Age                 55500 non-null  int64  \n",
      " 2   Gender              55500 non-null  object \n",
      " 3   Blood Type          55500 non-null  object \n",
      " 4   Medical Condition   55500 non-null  object \n",
      " 5   Date of Admission   55500 non-null  object \n",
      " 6   Doctor              55500 non-null  object \n",
      " 7   Hospital            55500 non-null  object \n",
      " 8   Insurance Provider  55500 non-null  object \n",
      " 9   Billing Amount      55500 non-null  float64\n",
      " 10  Room Number         55500 non-null  int64  \n",
      " 11  Admission Type      55500 non-null  object \n",
      " 12  Discharge Date      55500 non-null  object \n",
      " 13  Medication          55500 non-null  object \n",
      " 14  Test Results        55500 non-null  object \n",
      "dtypes: float64(1), int64(2), object(12)\n",
      "memory usage: 6.4+ MB\n"
     ]
    }
   ],
   "source": [
    "df.info()"
   ]
  },
  {
   "cell_type": "markdown",
   "id": "163722d0-eb90-492e-a9ff-fa695d9b46ff",
   "metadata": {},
   "source": [
    "#### Observation: \n",
    "- The dataset contains 55500 records and 15 columns.\n",
    "- Out of the 15 columns:\n",
    "    - 12 are categorical(object type), such as Name, Gender, Blood Type, Hospital, Medication,etc....\n",
    "    - 3 are numerical(1--(float64) such as Billing Amount    and 2--(int64) such as Age, Room Number).\n",
    "- The dataset occupies approximately 6.4 MB of memory."
   ]
  },
  {
   "cell_type": "markdown",
   "id": "0ec94e9b-2ddf-43e4-977f-6f9158a1b882",
   "metadata": {},
   "source": [
    "### Statistical Overview of Numerical Data "
   ]
  },
  {
   "cell_type": "code",
   "execution_count": 7,
   "id": "6a19202f-b2c5-4de3-af64-c468558d2d60",
   "metadata": {
    "execution": {
     "iopub.execute_input": "2025-09-07T08:47:55.387841Z",
     "iopub.status.busy": "2025-09-07T08:47:55.383829Z",
     "iopub.status.idle": "2025-09-07T08:47:55.474608Z",
     "shell.execute_reply": "2025-09-07T08:47:55.473049Z",
     "shell.execute_reply.started": "2025-09-07T08:47:55.387841Z"
    }
   },
   "outputs": [
    {
     "data": {
      "text/html": [
       "<div>\n",
       "<style scoped>\n",
       "    .dataframe tbody tr th:only-of-type {\n",
       "        vertical-align: middle;\n",
       "    }\n",
       "\n",
       "    .dataframe tbody tr th {\n",
       "        vertical-align: top;\n",
       "    }\n",
       "\n",
       "    .dataframe thead th {\n",
       "        text-align: right;\n",
       "    }\n",
       "</style>\n",
       "<table border=\"1\" class=\"dataframe\">\n",
       "  <thead>\n",
       "    <tr style=\"text-align: right;\">\n",
       "      <th></th>\n",
       "      <th>Age</th>\n",
       "      <th>Billing Amount</th>\n",
       "      <th>Room Number</th>\n",
       "    </tr>\n",
       "  </thead>\n",
       "  <tbody>\n",
       "    <tr>\n",
       "      <th>count</th>\n",
       "      <td>55500.000000</td>\n",
       "      <td>55500.000000</td>\n",
       "      <td>55500.000000</td>\n",
       "    </tr>\n",
       "    <tr>\n",
       "      <th>mean</th>\n",
       "      <td>51.539459</td>\n",
       "      <td>25539.316097</td>\n",
       "      <td>301.134829</td>\n",
       "    </tr>\n",
       "    <tr>\n",
       "      <th>std</th>\n",
       "      <td>19.602454</td>\n",
       "      <td>14211.454431</td>\n",
       "      <td>115.243069</td>\n",
       "    </tr>\n",
       "    <tr>\n",
       "      <th>min</th>\n",
       "      <td>13.000000</td>\n",
       "      <td>-2008.492140</td>\n",
       "      <td>101.000000</td>\n",
       "    </tr>\n",
       "    <tr>\n",
       "      <th>25%</th>\n",
       "      <td>35.000000</td>\n",
       "      <td>13241.224655</td>\n",
       "      <td>202.000000</td>\n",
       "    </tr>\n",
       "    <tr>\n",
       "      <th>50%</th>\n",
       "      <td>52.000000</td>\n",
       "      <td>25538.069380</td>\n",
       "      <td>302.000000</td>\n",
       "    </tr>\n",
       "    <tr>\n",
       "      <th>75%</th>\n",
       "      <td>68.000000</td>\n",
       "      <td>37820.508432</td>\n",
       "      <td>401.000000</td>\n",
       "    </tr>\n",
       "    <tr>\n",
       "      <th>max</th>\n",
       "      <td>89.000000</td>\n",
       "      <td>52764.276740</td>\n",
       "      <td>500.000000</td>\n",
       "    </tr>\n",
       "  </tbody>\n",
       "</table>\n",
       "</div>"
      ],
      "text/plain": [
       "                Age  Billing Amount   Room Number\n",
       "count  55500.000000    55500.000000  55500.000000\n",
       "mean      51.539459    25539.316097    301.134829\n",
       "std       19.602454    14211.454431    115.243069\n",
       "min       13.000000    -2008.492140    101.000000\n",
       "25%       35.000000    13241.224655    202.000000\n",
       "50%       52.000000    25538.069380    302.000000\n",
       "75%       68.000000    37820.508432    401.000000\n",
       "max       89.000000    52764.276740    500.000000"
      ]
     },
     "execution_count": 7,
     "metadata": {},
     "output_type": "execute_result"
    }
   ],
   "source": [
    "df.describe()"
   ]
  },
  {
   "cell_type": "markdown",
   "id": "558f9f73-73e8-4e6e-88a8-38d438806f73",
   "metadata": {},
   "source": [
    "#### Observation: \n",
    "- The summary shows fundamental statistical measures like mean, min, max, and standard deviation for all numerical columns.\n",
    "- For example: The average mean of Billing Amount is around `$25,539` , with billing amount ranging from `$-2,008 to $52,764`."
   ]
  },
  {
   "cell_type": "markdown",
   "id": "b409b6d0-e077-444b-8601-9cdbad9763ec",
   "metadata": {},
   "source": [
    "### Null Value Count Across All Columns"
   ]
  },
  {
   "cell_type": "code",
   "execution_count": 8,
   "id": "87714602-ad55-435f-88d1-5bb79c49a1f5",
   "metadata": {
    "execution": {
     "iopub.execute_input": "2025-09-07T08:47:55.482835Z",
     "iopub.status.busy": "2025-09-07T08:47:55.481635Z",
     "iopub.status.idle": "2025-09-07T08:47:55.593702Z",
     "shell.execute_reply": "2025-09-07T08:47:55.591185Z",
     "shell.execute_reply.started": "2025-09-07T08:47:55.482835Z"
    }
   },
   "outputs": [
    {
     "data": {
      "text/html": [
       "<div>\n",
       "<style scoped>\n",
       "    .dataframe tbody tr th:only-of-type {\n",
       "        vertical-align: middle;\n",
       "    }\n",
       "\n",
       "    .dataframe tbody tr th {\n",
       "        vertical-align: top;\n",
       "    }\n",
       "\n",
       "    .dataframe thead th {\n",
       "        text-align: right;\n",
       "    }\n",
       "</style>\n",
       "<table border=\"1\" class=\"dataframe\">\n",
       "  <thead>\n",
       "    <tr style=\"text-align: right;\">\n",
       "      <th></th>\n",
       "      <th>Name</th>\n",
       "      <th>Age</th>\n",
       "      <th>Gender</th>\n",
       "      <th>Blood Type</th>\n",
       "      <th>Medical Condition</th>\n",
       "      <th>Date of Admission</th>\n",
       "      <th>Doctor</th>\n",
       "      <th>Hospital</th>\n",
       "      <th>Insurance Provider</th>\n",
       "      <th>Billing Amount</th>\n",
       "      <th>Room Number</th>\n",
       "      <th>Admission Type</th>\n",
       "      <th>Discharge Date</th>\n",
       "      <th>Medication</th>\n",
       "      <th>Test Results</th>\n",
       "    </tr>\n",
       "  </thead>\n",
       "  <tbody>\n",
       "    <tr>\n",
       "      <th>0</th>\n",
       "      <td>False</td>\n",
       "      <td>False</td>\n",
       "      <td>False</td>\n",
       "      <td>False</td>\n",
       "      <td>False</td>\n",
       "      <td>False</td>\n",
       "      <td>False</td>\n",
       "      <td>False</td>\n",
       "      <td>False</td>\n",
       "      <td>False</td>\n",
       "      <td>False</td>\n",
       "      <td>False</td>\n",
       "      <td>False</td>\n",
       "      <td>False</td>\n",
       "      <td>False</td>\n",
       "    </tr>\n",
       "    <tr>\n",
       "      <th>1</th>\n",
       "      <td>False</td>\n",
       "      <td>False</td>\n",
       "      <td>False</td>\n",
       "      <td>False</td>\n",
       "      <td>False</td>\n",
       "      <td>False</td>\n",
       "      <td>False</td>\n",
       "      <td>False</td>\n",
       "      <td>False</td>\n",
       "      <td>False</td>\n",
       "      <td>False</td>\n",
       "      <td>False</td>\n",
       "      <td>False</td>\n",
       "      <td>False</td>\n",
       "      <td>False</td>\n",
       "    </tr>\n",
       "    <tr>\n",
       "      <th>2</th>\n",
       "      <td>False</td>\n",
       "      <td>False</td>\n",
       "      <td>False</td>\n",
       "      <td>False</td>\n",
       "      <td>False</td>\n",
       "      <td>False</td>\n",
       "      <td>False</td>\n",
       "      <td>False</td>\n",
       "      <td>False</td>\n",
       "      <td>False</td>\n",
       "      <td>False</td>\n",
       "      <td>False</td>\n",
       "      <td>False</td>\n",
       "      <td>False</td>\n",
       "      <td>False</td>\n",
       "    </tr>\n",
       "    <tr>\n",
       "      <th>3</th>\n",
       "      <td>False</td>\n",
       "      <td>False</td>\n",
       "      <td>False</td>\n",
       "      <td>False</td>\n",
       "      <td>False</td>\n",
       "      <td>False</td>\n",
       "      <td>False</td>\n",
       "      <td>False</td>\n",
       "      <td>False</td>\n",
       "      <td>False</td>\n",
       "      <td>False</td>\n",
       "      <td>False</td>\n",
       "      <td>False</td>\n",
       "      <td>False</td>\n",
       "      <td>False</td>\n",
       "    </tr>\n",
       "    <tr>\n",
       "      <th>4</th>\n",
       "      <td>False</td>\n",
       "      <td>False</td>\n",
       "      <td>False</td>\n",
       "      <td>False</td>\n",
       "      <td>False</td>\n",
       "      <td>False</td>\n",
       "      <td>False</td>\n",
       "      <td>False</td>\n",
       "      <td>False</td>\n",
       "      <td>False</td>\n",
       "      <td>False</td>\n",
       "      <td>False</td>\n",
       "      <td>False</td>\n",
       "      <td>False</td>\n",
       "      <td>False</td>\n",
       "    </tr>\n",
       "    <tr>\n",
       "      <th>...</th>\n",
       "      <td>...</td>\n",
       "      <td>...</td>\n",
       "      <td>...</td>\n",
       "      <td>...</td>\n",
       "      <td>...</td>\n",
       "      <td>...</td>\n",
       "      <td>...</td>\n",
       "      <td>...</td>\n",
       "      <td>...</td>\n",
       "      <td>...</td>\n",
       "      <td>...</td>\n",
       "      <td>...</td>\n",
       "      <td>...</td>\n",
       "      <td>...</td>\n",
       "      <td>...</td>\n",
       "    </tr>\n",
       "    <tr>\n",
       "      <th>55495</th>\n",
       "      <td>False</td>\n",
       "      <td>False</td>\n",
       "      <td>False</td>\n",
       "      <td>False</td>\n",
       "      <td>False</td>\n",
       "      <td>False</td>\n",
       "      <td>False</td>\n",
       "      <td>False</td>\n",
       "      <td>False</td>\n",
       "      <td>False</td>\n",
       "      <td>False</td>\n",
       "      <td>False</td>\n",
       "      <td>False</td>\n",
       "      <td>False</td>\n",
       "      <td>False</td>\n",
       "    </tr>\n",
       "    <tr>\n",
       "      <th>55496</th>\n",
       "      <td>False</td>\n",
       "      <td>False</td>\n",
       "      <td>False</td>\n",
       "      <td>False</td>\n",
       "      <td>False</td>\n",
       "      <td>False</td>\n",
       "      <td>False</td>\n",
       "      <td>False</td>\n",
       "      <td>False</td>\n",
       "      <td>False</td>\n",
       "      <td>False</td>\n",
       "      <td>False</td>\n",
       "      <td>False</td>\n",
       "      <td>False</td>\n",
       "      <td>False</td>\n",
       "    </tr>\n",
       "    <tr>\n",
       "      <th>55497</th>\n",
       "      <td>False</td>\n",
       "      <td>False</td>\n",
       "      <td>False</td>\n",
       "      <td>False</td>\n",
       "      <td>False</td>\n",
       "      <td>False</td>\n",
       "      <td>False</td>\n",
       "      <td>False</td>\n",
       "      <td>False</td>\n",
       "      <td>False</td>\n",
       "      <td>False</td>\n",
       "      <td>False</td>\n",
       "      <td>False</td>\n",
       "      <td>False</td>\n",
       "      <td>False</td>\n",
       "    </tr>\n",
       "    <tr>\n",
       "      <th>55498</th>\n",
       "      <td>False</td>\n",
       "      <td>False</td>\n",
       "      <td>False</td>\n",
       "      <td>False</td>\n",
       "      <td>False</td>\n",
       "      <td>False</td>\n",
       "      <td>False</td>\n",
       "      <td>False</td>\n",
       "      <td>False</td>\n",
       "      <td>False</td>\n",
       "      <td>False</td>\n",
       "      <td>False</td>\n",
       "      <td>False</td>\n",
       "      <td>False</td>\n",
       "      <td>False</td>\n",
       "    </tr>\n",
       "    <tr>\n",
       "      <th>55499</th>\n",
       "      <td>False</td>\n",
       "      <td>False</td>\n",
       "      <td>False</td>\n",
       "      <td>False</td>\n",
       "      <td>False</td>\n",
       "      <td>False</td>\n",
       "      <td>False</td>\n",
       "      <td>False</td>\n",
       "      <td>False</td>\n",
       "      <td>False</td>\n",
       "      <td>False</td>\n",
       "      <td>False</td>\n",
       "      <td>False</td>\n",
       "      <td>False</td>\n",
       "      <td>False</td>\n",
       "    </tr>\n",
       "  </tbody>\n",
       "</table>\n",
       "<p>55500 rows × 15 columns</p>\n",
       "</div>"
      ],
      "text/plain": [
       "        Name    Age  Gender  Blood Type  Medical Condition  Date of Admission  \\\n",
       "0      False  False   False       False              False              False   \n",
       "1      False  False   False       False              False              False   \n",
       "2      False  False   False       False              False              False   \n",
       "3      False  False   False       False              False              False   \n",
       "4      False  False   False       False              False              False   \n",
       "...      ...    ...     ...         ...                ...                ...   \n",
       "55495  False  False   False       False              False              False   \n",
       "55496  False  False   False       False              False              False   \n",
       "55497  False  False   False       False              False              False   \n",
       "55498  False  False   False       False              False              False   \n",
       "55499  False  False   False       False              False              False   \n",
       "\n",
       "       Doctor  Hospital  Insurance Provider  Billing Amount  Room Number  \\\n",
       "0       False     False               False           False        False   \n",
       "1       False     False               False           False        False   \n",
       "2       False     False               False           False        False   \n",
       "3       False     False               False           False        False   \n",
       "4       False     False               False           False        False   \n",
       "...       ...       ...                 ...             ...          ...   \n",
       "55495   False     False               False           False        False   \n",
       "55496   False     False               False           False        False   \n",
       "55497   False     False               False           False        False   \n",
       "55498   False     False               False           False        False   \n",
       "55499   False     False               False           False        False   \n",
       "\n",
       "       Admission Type  Discharge Date  Medication  Test Results  \n",
       "0               False           False       False         False  \n",
       "1               False           False       False         False  \n",
       "2               False           False       False         False  \n",
       "3               False           False       False         False  \n",
       "4               False           False       False         False  \n",
       "...               ...             ...         ...           ...  \n",
       "55495           False           False       False         False  \n",
       "55496           False           False       False         False  \n",
       "55497           False           False       False         False  \n",
       "55498           False           False       False         False  \n",
       "55499           False           False       False         False  \n",
       "\n",
       "[55500 rows x 15 columns]"
      ]
     },
     "execution_count": 8,
     "metadata": {},
     "output_type": "execute_result"
    }
   ],
   "source": [
    "df.isnull()"
   ]
  },
  {
   "cell_type": "markdown",
   "id": "ed14dca2-b5ce-4e05-a044-47b29343c8d2",
   "metadata": {},
   "source": [
    "##### Observation:\n",
    "- All entries in the Dataframe show \"False\" for missing values, indicating there are no nulls in any column\n",
    "- The dataset is complete for all displayed ccolumns and rows- no data is missing.\n",
    "- And there is no need for cleaning the data before analysis as the dataset is already cleaned."
   ]
  },
  {
   "cell_type": "code",
   "execution_count": 9,
   "id": "f5704e4f-4c83-4ade-a55b-1fd0dd496576",
   "metadata": {
    "execution": {
     "iopub.execute_input": "2025-09-07T08:47:55.595993Z",
     "iopub.status.busy": "2025-09-07T08:47:55.594983Z",
     "iopub.status.idle": "2025-09-07T08:47:55.670119Z",
     "shell.execute_reply": "2025-09-07T08:47:55.669607Z",
     "shell.execute_reply.started": "2025-09-07T08:47:55.595993Z"
    }
   },
   "outputs": [
    {
     "data": {
      "text/plain": [
       "Name                  0\n",
       "Age                   0\n",
       "Gender                0\n",
       "Blood Type            0\n",
       "Medical Condition     0\n",
       "Date of Admission     0\n",
       "Doctor                0\n",
       "Hospital              0\n",
       "Insurance Provider    0\n",
       "Billing Amount        0\n",
       "Room Number           0\n",
       "Admission Type        0\n",
       "Discharge Date        0\n",
       "Medication            0\n",
       "Test Results          0\n",
       "dtype: int64"
      ]
     },
     "execution_count": 9,
     "metadata": {},
     "output_type": "execute_result"
    }
   ],
   "source": [
    "df.isnull().sum()"
   ]
  },
  {
   "cell_type": "markdown",
   "id": "e53e7f93-5963-41d6-a398-03b63a8cc8fb",
   "metadata": {},
   "source": [
    "#### Observation:\n",
    "- The dataset doesn't contains any missing values.\n",
    "- The output of df.isnull().sum() confirms that every column in the Dataframe has a sum of 0 missing values."
   ]
  },
  {
   "cell_type": "markdown",
   "id": "0ed3aee3-5242-4287-9024-46cbfcd9845a",
   "metadata": {},
   "source": [
    "### Value Count Summary(Healthcare Analysis[ Insights from Patient Records])"
   ]
  },
  {
   "cell_type": "code",
   "execution_count": 10,
   "id": "a9f891b1-a65b-449f-a412-138c146b82b6",
   "metadata": {
    "execution": {
     "iopub.execute_input": "2025-09-07T08:47:55.674320Z",
     "iopub.status.busy": "2025-09-07T08:47:55.674320Z",
     "iopub.status.idle": "2025-09-07T08:47:55.696097Z",
     "shell.execute_reply": "2025-09-07T08:47:55.694883Z",
     "shell.execute_reply.started": "2025-09-07T08:47:55.674320Z"
    }
   },
   "outputs": [
    {
     "data": {
      "text/plain": [
       "Admission Type\n",
       "Elective     18655\n",
       "Urgent       18576\n",
       "Emergency    18269\n",
       "Name: count, dtype: int64"
      ]
     },
     "execution_count": 10,
     "metadata": {},
     "output_type": "execute_result"
    }
   ],
   "source": [
    "df['Admission Type'].value_counts()"
   ]
  },
  {
   "cell_type": "markdown",
   "id": "8a13b1cb-25ff-48b0-8a30-7aeca322fe89",
   "metadata": {},
   "source": [
    "#### Observation: \n",
    "- The column represents the Admission type of Patients\n",
    "- Most admissions are `Elective`\n",
    "- Distribution across all three admission types is almost balanced. "
   ]
  },
  {
   "cell_type": "code",
   "execution_count": 11,
   "id": "4997cc6b-5e4c-423e-a01e-bfe2f0028253",
   "metadata": {
    "execution": {
     "iopub.execute_input": "2025-09-07T08:47:55.699107Z",
     "iopub.status.busy": "2025-09-07T08:47:55.698105Z",
     "iopub.status.idle": "2025-09-07T08:47:55.716060Z",
     "shell.execute_reply": "2025-09-07T08:47:55.714834Z",
     "shell.execute_reply.started": "2025-09-07T08:47:55.699107Z"
    }
   },
   "outputs": [
    {
     "data": {
      "text/plain": [
       "Blood Type\n",
       "A-     6969\n",
       "A+     6956\n",
       "AB+    6947\n",
       "AB-    6945\n",
       "B+     6945\n",
       "B-     6944\n",
       "O+     6917\n",
       "O-     6877\n",
       "Name: count, dtype: int64"
      ]
     },
     "execution_count": 11,
     "metadata": {},
     "output_type": "execute_result"
    }
   ],
   "source": [
    "df['Blood Type'].value_counts()"
   ]
  },
  {
   "cell_type": "markdown",
   "id": "5fff960a-158c-4523-85a4-70882a35ea29",
   "metadata": {},
   "source": [
    "#### Observation: \n",
    "- All blood groups have almost equal representation in the dataset.\n",
    "- The highest is A- (6,969), followed closely by A+ (6,956).\n",
    "- The lowest is O- (6,877).\n",
    "- The difference between highest and lowest is only 92 patients, showing no significant bias toward any blood type.\n",
    "- This indicates a well-distributed dataset across blood groups."
   ]
  },
  {
   "cell_type": "code",
   "execution_count": 12,
   "id": "17c255c6-8ade-4dcf-b6a0-cf123e353c8a",
   "metadata": {
    "execution": {
     "iopub.execute_input": "2025-09-07T08:47:55.719070Z",
     "iopub.status.busy": "2025-09-07T08:47:55.718068Z",
     "iopub.status.idle": "2025-09-07T08:47:55.743900Z",
     "shell.execute_reply": "2025-09-07T08:47:55.742015Z",
     "shell.execute_reply.started": "2025-09-07T08:47:55.719070Z"
    }
   },
   "outputs": [
    {
     "data": {
      "text/plain": [
       "Date of Admission\n",
       "16-03-2024    50\n",
       "24-07-2022    49\n",
       "22-10-2020    49\n",
       "28-12-2021    48\n",
       "03-01-2021    48\n",
       "              ..\n",
       "12-04-2023    14\n",
       "28-05-2022    14\n",
       "23-05-2022    13\n",
       "22-07-2019    13\n",
       "05-02-2022    12\n",
       "Name: count, Length: 1827, dtype: int64"
      ]
     },
     "execution_count": 12,
     "metadata": {},
     "output_type": "execute_result"
    }
   ],
   "source": [
    "df['Date of Admission'].value_counts()"
   ]
  },
  {
   "cell_type": "markdown",
   "id": "35251de6-9023-4a1b-81d7-25aa21bddd62",
   "metadata": {},
   "source": [
    "#### Observation: \n",
    "- Admissions are spread across 1,827 unique dates.\n",
    "- The highest admissions on a single date were 50 (2024-03-16).\n",
    "- Other high-admission dates include 2022-07-24 (49) and 2020-10-22 (49).\n",
    "- The lowest admissions occurred on 2022-02-05 (12).\n",
    "- Overall, admissions are fairly consistent over time, with only small variations between dates."
   ]
  },
  {
   "cell_type": "code",
   "execution_count": 13,
   "id": "d1bd23f0-f6bc-4431-a45c-024daf29f5f3",
   "metadata": {
    "execution": {
     "iopub.execute_input": "2025-09-07T08:47:55.746960Z",
     "iopub.status.busy": "2025-09-07T08:47:55.745952Z",
     "iopub.status.idle": "2025-09-07T08:47:55.764693Z",
     "shell.execute_reply": "2025-09-07T08:47:55.763682Z",
     "shell.execute_reply.started": "2025-09-07T08:47:55.746960Z"
    }
   },
   "outputs": [
    {
     "data": {
      "text/plain": [
       "Age\n",
       "38    897\n",
       "37    893\n",
       "57    887\n",
       "80    864\n",
       "34    864\n",
       "     ... \n",
       "88     25\n",
       "16     24\n",
       "14     18\n",
       "13     14\n",
       "89      8\n",
       "Name: count, Length: 77, dtype: int64"
      ]
     },
     "execution_count": 13,
     "metadata": {},
     "output_type": "execute_result"
    }
   ],
   "source": [
    "df['Age'].value_counts()"
   ]
  },
  {
   "cell_type": "markdown",
   "id": "63e4eacb-4c30-472b-ba51-3d8169605e4d",
   "metadata": {},
   "source": [
    "#### Observation: \n",
    "- The dataset covers patients aged 13 to 89 years.\n",
    "- The most common ages are 38 (897 patients), 37 (893), and 57 (887).\n",
    "- Higher patient counts are concentrated around the 30s to late 50s age group.\n",
    "- Younger ages (below 20) and very old ages (above 85) have fewer patients.\n",
    "- This indicates the dataset is dominated by middle-aged and older adults, with fewer children and elderly patients."
   ]
  },
  {
   "cell_type": "code",
   "execution_count": 14,
   "id": "e01425d0-b929-4a57-acb0-54c7a82ff3e9",
   "metadata": {
    "execution": {
     "iopub.execute_input": "2025-09-07T08:47:55.772702Z",
     "iopub.status.busy": "2025-09-07T08:47:55.771704Z",
     "iopub.status.idle": "2025-09-07T08:47:55.842903Z",
     "shell.execute_reply": "2025-09-07T08:47:55.840893Z",
     "shell.execute_reply.started": "2025-09-07T08:47:55.772702Z"
    }
   },
   "outputs": [
    {
     "data": {
      "text/plain": [
       "Hospital\n",
       "LLC Smith                      44\n",
       "Ltd Smith                      39\n",
       "Johnson PLC                    38\n",
       "Smith Ltd                      37\n",
       "Smith PLC                      36\n",
       "                               ..\n",
       "and Montoya Flores, Boyer       1\n",
       "Carter and Dunn King,           1\n",
       "Hall, Brown Black and           1\n",
       "Peterson Scott and Thomas,      1\n",
       "Moreno Murphy, Griffith and     1\n",
       "Name: count, Length: 39876, dtype: int64"
      ]
     },
     "execution_count": 14,
     "metadata": {},
     "output_type": "execute_result"
    }
   ],
   "source": [
    "df['Hospital'].value_counts()"
   ]
  },
  {
   "cell_type": "markdown",
   "id": "3d20f0ab-9381-4b73-baed-3e8841ed7106",
   "metadata": {},
   "source": [
    "#### Observation: \n",
    "- The dataset contains records from 39,876 unique hospitals.\n",
    "- A few hospitals (e.g., LLC Smith – 44 patients, Ltd Smith – 39, Johnson PLC – 38) appear more frequently.\n",
    "- Most hospitals have very few patients (only 1–2 records each).\n",
    "- This shows the data is highly diverse and widely spread across hospitals, with no single hospital dominating the dataset."
   ]
  },
  {
   "cell_type": "code",
   "execution_count": 15,
   "id": "2a0bb6e0-c50c-4084-926e-2a02d6e0ea97",
   "metadata": {
    "execution": {
     "iopub.execute_input": "2025-09-07T08:47:55.850071Z",
     "iopub.status.busy": "2025-09-07T08:47:55.848942Z",
     "iopub.status.idle": "2025-09-07T08:47:55.858307Z",
     "shell.execute_reply": "2025-09-07T08:47:55.855539Z",
     "shell.execute_reply.started": "2025-09-07T08:47:55.850071Z"
    }
   },
   "outputs": [],
   "source": [
    "from IPython.core.interactiveshell import InteractiveShell\n",
    "InteractiveShell.ast_node_interactivity=\"all\""
   ]
  },
  {
   "cell_type": "markdown",
   "id": "b2b716ba-6698-4b18-8937-370ddd058eae",
   "metadata": {},
   "source": [
    "#### Analysing the dataset using some questions"
   ]
  },
  {
   "cell_type": "markdown",
   "id": "31579a60-dcda-40af-9b8f-f77ad918f50b",
   "metadata": {},
   "source": [
    "### 1. Find the hospital with the maximum number of unique medical conditions treated."
   ]
  },
  {
   "cell_type": "code",
   "execution_count": 16,
   "id": "4571a142-5812-4938-b02f-447a73482839",
   "metadata": {
    "execution": {
     "iopub.execute_input": "2025-09-07T08:47:55.864821Z",
     "iopub.status.busy": "2025-09-07T08:47:55.860316Z",
     "iopub.status.idle": "2025-09-07T08:47:56.018084Z",
     "shell.execute_reply": "2025-09-07T08:47:56.017074Z",
     "shell.execute_reply.started": "2025-09-07T08:47:55.864821Z"
    }
   },
   "outputs": [
    {
     "data": {
      "text/plain": [
       "Hospital\n",
       "Group Bennett    6\n",
       "Williams Inc     6\n",
       "Group Smith      6\n",
       "Brown PLC        6\n",
       "Garcia Ltd       6\n",
       "Name: Medical Condition, dtype: int64"
      ]
     },
     "execution_count": 16,
     "metadata": {},
     "output_type": "execute_result"
    }
   ],
   "source": [
    "df.groupby('Hospital')['Medical Condition'].nunique().sort_values(ascending=False).head()"
   ]
  },
  {
   "cell_type": "markdown",
   "id": "54a6d194-c655-4299-9482-6d7d60dd6759",
   "metadata": {},
   "source": [
    "### 2. Group average billing amount by gender."
   ]
  },
  {
   "cell_type": "code",
   "execution_count": 17,
   "id": "0a1fe336-5f24-4cd7-bbc5-204112f04029",
   "metadata": {
    "execution": {
     "iopub.execute_input": "2025-09-07T08:47:56.022877Z",
     "iopub.status.busy": "2025-09-07T08:47:56.021736Z",
     "iopub.status.idle": "2025-09-07T08:47:56.050721Z",
     "shell.execute_reply": "2025-09-07T08:47:56.049711Z",
     "shell.execute_reply.started": "2025-09-07T08:47:56.022877Z"
    }
   },
   "outputs": [
    {
     "data": {
      "text/plain": [
       "Gender\n",
       "Female    25470.652958\n",
       "Male      25607.860571\n",
       "Name: Billing Amount, dtype: float64"
      ]
     },
     "execution_count": 17,
     "metadata": {},
     "output_type": "execute_result"
    }
   ],
   "source": [
    "df.groupby('Gender')['Billing Amount'].mean()"
   ]
  },
  {
   "cell_type": "markdown",
   "id": "a9d76b26-257c-48ba-9c2b-93c89c3b4b69",
   "metadata": {},
   "source": [
    "### 3. Find top 3 medications prescribed for patients over 60 years old. "
   ]
  },
  {
   "cell_type": "code",
   "execution_count": 18,
   "id": "ea53ac82-ba06-40b3-9494-7181017ad401",
   "metadata": {
    "execution": {
     "iopub.execute_input": "2025-09-07T08:47:56.054719Z",
     "iopub.status.busy": "2025-09-07T08:47:56.052718Z",
     "iopub.status.idle": "2025-09-07T08:47:56.087098Z",
     "shell.execute_reply": "2025-09-07T08:47:56.086087Z",
     "shell.execute_reply.started": "2025-09-07T08:47:56.054719Z"
    }
   },
   "outputs": [
    {
     "data": {
      "text/plain": [
       "Medication\n",
       "Aspirin      4182\n",
       "Ibuprofen    4097\n",
       "Lipitor      4041\n",
       "Name: count, dtype: int64"
      ]
     },
     "execution_count": 18,
     "metadata": {},
     "output_type": "execute_result"
    }
   ],
   "source": [
    "df[df['Age'] > 60]['Medication'].value_counts().head(3)"
   ]
  },
  {
   "cell_type": "markdown",
   "id": "f539f926-2172-43bd-ba13-0089a33f9fe2",
   "metadata": {},
   "source": [
    "### 4. Find the age group with the highest billing amount."
   ]
  },
  {
   "cell_type": "code",
   "execution_count": 19,
   "id": "3c079e1c-bbab-4a5b-bbd7-3dbc31020651",
   "metadata": {
    "execution": {
     "iopub.execute_input": "2025-09-07T08:47:56.090097Z",
     "iopub.status.busy": "2025-09-07T08:47:56.088095Z",
     "iopub.status.idle": "2025-09-07T08:47:56.120553Z",
     "shell.execute_reply": "2025-09-07T08:47:56.119545Z",
     "shell.execute_reply.started": "2025-09-07T08:47:56.090097Z"
    }
   },
   "outputs": [
    {
     "data": {
      "text/plain": [
       "Age Group\n",
       "Children & Teens    26757.742344\n",
       "Older Adults        25640.009180\n",
       "Young Adults        25522.270144\n",
       "Middle Age          25522.145077\n",
       "Seniors             25423.102385\n",
       "Name: Billing Amount, dtype: float64"
      ]
     },
     "execution_count": 19,
     "metadata": {},
     "output_type": "execute_result"
    }
   ],
   "source": [
    "df['Age Group'] = pd.cut(df['Age'], bins=[0,18,35,50,65,90], labels=['Children & Teens','Young Adults','Middle Age','Older Adults','Seniors'])\n",
    "df.groupby('Age Group',observed=False)['Billing Amount'].mean().sort_values(ascending=False)"
   ]
  },
  {
   "cell_type": "markdown",
   "id": "4dcbede4-3b39-4870-bf47-2016e34df335",
   "metadata": {},
   "source": [
    "### 5. Find the difference in average billing amount between Emergency and Elective admissions."
   ]
  },
  {
   "cell_type": "code",
   "execution_count": 20,
   "id": "7e65d37d-845b-41fe-9682-b6f0d4b0a427",
   "metadata": {
    "execution": {
     "iopub.execute_input": "2025-09-07T08:47:56.122552Z",
     "iopub.status.busy": "2025-09-07T08:47:56.122552Z",
     "iopub.status.idle": "2025-09-07T08:47:56.176091Z",
     "shell.execute_reply": "2025-09-07T08:47:56.174887Z",
     "shell.execute_reply.started": "2025-09-07T08:47:56.122552Z"
    }
   },
   "outputs": [
    {
     "name": "stdout",
     "output_type": "stream",
     "text": [
      "Difference: -104.82915419327401\n"
     ]
    }
   ],
   "source": [
    "emergency_avg = df[df['Admission Type']=='Emergency']['Billing Amount'].mean()\n",
    "elective_avg = df[df['Admission Type']=='Elective']['Billing Amount'].mean()\n",
    "difference = emergency_avg - elective_avg\n",
    "print(\"Difference:\", difference)"
   ]
  },
  {
   "cell_type": "markdown",
   "id": "ba486d25-28c8-4908-8513-b64e20e5a60e",
   "metadata": {},
   "source": [
    "### 6. Find which year had the most admissions. "
   ]
  },
  {
   "cell_type": "code",
   "execution_count": 21,
   "id": "00e4ea24-5524-4cad-9d11-a26308457d7b",
   "metadata": {
    "execution": {
     "iopub.execute_input": "2025-09-07T08:47:56.179475Z",
     "iopub.status.busy": "2025-09-07T08:47:56.178462Z",
     "iopub.status.idle": "2025-09-07T08:47:56.795538Z",
     "shell.execute_reply": "2025-09-07T08:47:56.792312Z",
     "shell.execute_reply.started": "2025-09-07T08:47:56.179475Z"
    }
   },
   "outputs": [
    {
     "name": "stdout",
     "output_type": "stream",
     "text": [
      "Year\n",
      "2020    11285\n",
      "2023    11026\n",
      "2022    11017\n",
      "2021    10931\n",
      "2019     7387\n",
      "2024     3854\n",
      "Name: count, dtype: int64\n",
      "\n",
      "most admission year: 2020\n"
     ]
    }
   ],
   "source": [
    "df['Date of Admission'] = pd.to_datetime(df['Date of Admission'],dayfirst=True)\n",
    "df['Year'] = df['Date of Admission'].dt.year\n",
    "yearly_admissions = df['Year'].value_counts(ascending=False)\n",
    "print(yearly_admissions)\n",
    "print(\"\\nmost admission year:\",yearly_admissions.index[0])"
   ]
  },
  {
   "cell_type": "markdown",
   "id": "9cd037ea-a27f-4dd4-ac3b-f13e00ac2ca4",
   "metadata": {},
   "source": [
    "### 7. Calculate length of stay for each patient."
   ]
  },
  {
   "cell_type": "code",
   "execution_count": 22,
   "id": "af9c8485-3744-418a-a07f-6d8852a23614",
   "metadata": {
    "execution": {
     "iopub.execute_input": "2025-09-07T08:47:56.799773Z",
     "iopub.status.busy": "2025-09-07T08:47:56.797755Z",
     "iopub.status.idle": "2025-09-07T08:47:57.701886Z",
     "shell.execute_reply": "2025-09-07T08:47:57.700624Z",
     "shell.execute_reply.started": "2025-09-07T08:47:56.798755Z"
    }
   },
   "outputs": [
    {
     "data": {
      "text/plain": [
       "Name\n",
       "AARON DuncAn         11.0\n",
       "AARON HicKS          13.0\n",
       "AARON bAldWIN Jr.    26.0\n",
       "AARON hAWkIns         9.0\n",
       "AAROn HaRt            7.0\n",
       "                     ... \n",
       "zachaRy huLL          7.0\n",
       "zachaRy oDOM          2.0\n",
       "zachaRy raMirEZ      20.0\n",
       "zacharY BauTista      4.0\n",
       "zachary WALl         22.0\n",
       "Name: Length of Stay, Length: 49992, dtype: float64"
      ]
     },
     "execution_count": 22,
     "metadata": {},
     "output_type": "execute_result"
    },
    {
     "data": {
      "text/plain": [
       "Name\n",
       "jOSE iNGram        30.0\n",
       "deREk PitTs        30.0\n",
       "RobeRT LiN         30.0\n",
       "TERrI escoBar      30.0\n",
       "JENnifEr moORE     30.0\n",
       "                   ... \n",
       "DAVId COLliER       1.0\n",
       "pAtRick mYErs       1.0\n",
       "pAtTY CaRTER        1.0\n",
       "ebOny WILLiAMS      1.0\n",
       "amANda JennINGs     1.0\n",
       "Name: Length of Stay, Length: 49992, dtype: float64"
      ]
     },
     "execution_count": 22,
     "metadata": {},
     "output_type": "execute_result"
    }
   ],
   "source": [
    "df['Date of Admission'] = pd.to_datetime(df['Date of Admission'], dayfirst=True, errors='coerce')\n",
    "df['Discharge Date'] = pd.to_datetime(df['Discharge Date'], dayfirst=True, errors='coerce')\n",
    "df['Length of Stay'] = (df['Discharge Date'] - df['Date of Admission']).dt.days\n",
    "df.groupby('Name')['Length of Stay'].mean()\n",
    "df.groupby('Name')['Length of Stay'].mean().sort_values(ascending=False)"
   ]
  },
  {
   "cell_type": "markdown",
   "id": "e7a982fb-2b6b-40f9-a7f4-4c38c77e851d",
   "metadata": {},
   "source": [
    "### 8. What is the correlation between Age, Billing Amount, and Length of Stay?"
   ]
  },
  {
   "cell_type": "code",
   "execution_count": 23,
   "id": "9a5faa2f-4a25-4d01-919e-aeb429d34910",
   "metadata": {
    "execution": {
     "iopub.execute_input": "2025-09-07T08:47:57.706076Z",
     "iopub.status.busy": "2025-09-07T08:47:57.704895Z",
     "iopub.status.idle": "2025-09-07T08:47:57.763937Z",
     "shell.execute_reply": "2025-09-07T08:47:57.762927Z",
     "shell.execute_reply.started": "2025-09-07T08:47:57.706076Z"
    }
   },
   "outputs": [
    {
     "data": {
      "text/html": [
       "<div>\n",
       "<style scoped>\n",
       "    .dataframe tbody tr th:only-of-type {\n",
       "        vertical-align: middle;\n",
       "    }\n",
       "\n",
       "    .dataframe tbody tr th {\n",
       "        vertical-align: top;\n",
       "    }\n",
       "\n",
       "    .dataframe thead th {\n",
       "        text-align: right;\n",
       "    }\n",
       "</style>\n",
       "<table border=\"1\" class=\"dataframe\">\n",
       "  <thead>\n",
       "    <tr style=\"text-align: right;\">\n",
       "      <th></th>\n",
       "      <th>Age</th>\n",
       "      <th>Billing Amount</th>\n",
       "      <th>Length of Stay</th>\n",
       "    </tr>\n",
       "  </thead>\n",
       "  <tbody>\n",
       "    <tr>\n",
       "      <th>Age</th>\n",
       "      <td>1.000000</td>\n",
       "      <td>-0.003832</td>\n",
       "      <td>0.008220</td>\n",
       "    </tr>\n",
       "    <tr>\n",
       "      <th>Billing Amount</th>\n",
       "      <td>-0.003832</td>\n",
       "      <td>1.000000</td>\n",
       "      <td>-0.005602</td>\n",
       "    </tr>\n",
       "    <tr>\n",
       "      <th>Length of Stay</th>\n",
       "      <td>0.008220</td>\n",
       "      <td>-0.005602</td>\n",
       "      <td>1.000000</td>\n",
       "    </tr>\n",
       "  </tbody>\n",
       "</table>\n",
       "</div>"
      ],
      "text/plain": [
       "                     Age  Billing Amount  Length of Stay\n",
       "Age             1.000000       -0.003832        0.008220\n",
       "Billing Amount -0.003832        1.000000       -0.005602\n",
       "Length of Stay  0.008220       -0.005602        1.000000"
      ]
     },
     "execution_count": 23,
     "metadata": {},
     "output_type": "execute_result"
    }
   ],
   "source": [
    "df[['Age','Billing Amount','Length of Stay']].corr()"
   ]
  },
  {
   "cell_type": "markdown",
   "id": "874b3631-5975-43dd-88f0-c63d015368f4",
   "metadata": {},
   "source": [
    "### 9. Find the top 5 doctors who treated the most patients."
   ]
  },
  {
   "cell_type": "code",
   "execution_count": 24,
   "id": "708062f1-4b12-4dc2-a2a4-05028977a226",
   "metadata": {
    "execution": {
     "iopub.execute_input": "2025-09-07T08:47:57.768814Z",
     "iopub.status.busy": "2025-09-07T08:47:57.766443Z",
     "iopub.status.idle": "2025-09-07T08:47:57.871931Z",
     "shell.execute_reply": "2025-09-07T08:47:57.870920Z",
     "shell.execute_reply.started": "2025-09-07T08:47:57.768814Z"
    }
   },
   "outputs": [
    {
     "data": {
      "text/plain": [
       "Doctor\n",
       "Michael Smith      27\n",
       "Robert Smith       22\n",
       "John Smith         22\n",
       "Michael Johnson    20\n",
       "James Smith        20\n",
       "Name: count, dtype: int64"
      ]
     },
     "execution_count": 24,
     "metadata": {},
     "output_type": "execute_result"
    }
   ],
   "source": [
    "df['Doctor'].value_counts().head(5)"
   ]
  },
  {
   "cell_type": "markdown",
   "id": "9cf4fd1e-f7e6-4817-b1dc-d79cae074f13",
   "metadata": {},
   "source": [
    "### 10. Compare billing amount by gender and admission type."
   ]
  },
  {
   "cell_type": "code",
   "execution_count": 25,
   "id": "85f43970-3e73-415d-b647-8ee548b897c8",
   "metadata": {
    "execution": {
     "iopub.execute_input": "2025-09-07T08:47:57.873935Z",
     "iopub.status.busy": "2025-09-07T08:47:57.872929Z",
     "iopub.status.idle": "2025-09-07T08:47:57.930260Z",
     "shell.execute_reply": "2025-09-07T08:47:57.928247Z",
     "shell.execute_reply.started": "2025-09-07T08:47:57.873935Z"
    }
   },
   "outputs": [
    {
     "data": {
      "text/html": [
       "<div>\n",
       "<style scoped>\n",
       "    .dataframe tbody tr th:only-of-type {\n",
       "        vertical-align: middle;\n",
       "    }\n",
       "\n",
       "    .dataframe tbody tr th {\n",
       "        vertical-align: top;\n",
       "    }\n",
       "\n",
       "    .dataframe thead th {\n",
       "        text-align: right;\n",
       "    }\n",
       "</style>\n",
       "<table border=\"1\" class=\"dataframe\">\n",
       "  <thead>\n",
       "    <tr style=\"text-align: right;\">\n",
       "      <th>Admission Type</th>\n",
       "      <th>Elective</th>\n",
       "      <th>Emergency</th>\n",
       "      <th>Urgent</th>\n",
       "    </tr>\n",
       "    <tr>\n",
       "      <th>Gender</th>\n",
       "      <th></th>\n",
       "      <th></th>\n",
       "      <th></th>\n",
       "    </tr>\n",
       "  </thead>\n",
       "  <tbody>\n",
       "    <tr>\n",
       "      <th>Female</th>\n",
       "      <td>25461.574584</td>\n",
       "      <td>25450.151640</td>\n",
       "      <td>25500.803908</td>\n",
       "    </tr>\n",
       "    <tr>\n",
       "      <th>Male</th>\n",
       "      <td>25744.287435</td>\n",
       "      <td>25545.789131</td>\n",
       "      <td>25533.295406</td>\n",
       "    </tr>\n",
       "  </tbody>\n",
       "</table>\n",
       "</div>"
      ],
      "text/plain": [
       "Admission Type      Elective     Emergency        Urgent\n",
       "Gender                                                  \n",
       "Female          25461.574584  25450.151640  25500.803908\n",
       "Male            25744.287435  25545.789131  25533.295406"
      ]
     },
     "execution_count": 25,
     "metadata": {},
     "output_type": "execute_result"
    }
   ],
   "source": [
    "df.groupby(['Gender', 'Admission Type'])['Billing Amount'].mean().unstack()"
   ]
  },
  {
   "cell_type": "markdown",
   "id": "be80b64e-99d9-4e10-a4e4-140401287ea4",
   "metadata": {},
   "source": [
    "### 11. Is there a relationship between billing amount and medical condition?"
   ]
  },
  {
   "cell_type": "code",
   "execution_count": 26,
   "id": "d95a17fc-6fdb-471d-9a98-c23bf5756f9e",
   "metadata": {
    "execution": {
     "iopub.execute_input": "2025-09-07T08:47:57.934209Z",
     "iopub.status.busy": "2025-09-07T08:47:57.932265Z",
     "iopub.status.idle": "2025-09-07T08:47:57.986468Z",
     "shell.execute_reply": "2025-09-07T08:47:57.986468Z",
     "shell.execute_reply.started": "2025-09-07T08:47:57.934209Z"
    }
   },
   "outputs": [
    {
     "data": {
      "text/html": [
       "<div>\n",
       "<style scoped>\n",
       "    .dataframe tbody tr th:only-of-type {\n",
       "        vertical-align: middle;\n",
       "    }\n",
       "\n",
       "    .dataframe tbody tr th {\n",
       "        vertical-align: top;\n",
       "    }\n",
       "\n",
       "    .dataframe thead th {\n",
       "        text-align: right;\n",
       "    }\n",
       "</style>\n",
       "<table border=\"1\" class=\"dataframe\">\n",
       "  <thead>\n",
       "    <tr style=\"text-align: right;\">\n",
       "      <th></th>\n",
       "      <th>count</th>\n",
       "      <th>mean</th>\n",
       "      <th>median</th>\n",
       "      <th>std</th>\n",
       "      <th>min</th>\n",
       "      <th>max</th>\n",
       "    </tr>\n",
       "    <tr>\n",
       "      <th>Medical Condition</th>\n",
       "      <th></th>\n",
       "      <th></th>\n",
       "      <th></th>\n",
       "      <th></th>\n",
       "      <th></th>\n",
       "      <th></th>\n",
       "    </tr>\n",
       "  </thead>\n",
       "  <tbody>\n",
       "    <tr>\n",
       "      <th>Obesity</th>\n",
       "      <td>9231</td>\n",
       "      <td>25805.97</td>\n",
       "      <td>26130.00</td>\n",
       "      <td>14079.53</td>\n",
       "      <td>-1310.27</td>\n",
       "      <td>52024.73</td>\n",
       "    </tr>\n",
       "    <tr>\n",
       "      <th>Diabetes</th>\n",
       "      <td>9304</td>\n",
       "      <td>25638.41</td>\n",
       "      <td>25621.08</td>\n",
       "      <td>14159.52</td>\n",
       "      <td>-1316.62</td>\n",
       "      <td>52211.85</td>\n",
       "    </tr>\n",
       "    <tr>\n",
       "      <th>Asthma</th>\n",
       "      <td>9185</td>\n",
       "      <td>25635.25</td>\n",
       "      <td>25661.87</td>\n",
       "      <td>14241.68</td>\n",
       "      <td>-1520.42</td>\n",
       "      <td>52181.84</td>\n",
       "    </tr>\n",
       "    <tr>\n",
       "      <th>Arthritis</th>\n",
       "      <td>9308</td>\n",
       "      <td>25497.33</td>\n",
       "      <td>25581.76</td>\n",
       "      <td>14276.53</td>\n",
       "      <td>-1130.00</td>\n",
       "      <td>52170.04</td>\n",
       "    </tr>\n",
       "    <tr>\n",
       "      <th>Hypertension</th>\n",
       "      <td>9245</td>\n",
       "      <td>25497.10</td>\n",
       "      <td>25275.67</td>\n",
       "      <td>14305.40</td>\n",
       "      <td>-1660.01</td>\n",
       "      <td>52764.28</td>\n",
       "    </tr>\n",
       "    <tr>\n",
       "      <th>Cancer</th>\n",
       "      <td>9227</td>\n",
       "      <td>25161.79</td>\n",
       "      <td>24910.98</td>\n",
       "      <td>14200.27</td>\n",
       "      <td>-2008.49</td>\n",
       "      <td>52373.03</td>\n",
       "    </tr>\n",
       "  </tbody>\n",
       "</table>\n",
       "</div>"
      ],
      "text/plain": [
       "                   count      mean    median       std      min       max\n",
       "Medical Condition                                                        \n",
       "Obesity             9231  25805.97  26130.00  14079.53 -1310.27  52024.73\n",
       "Diabetes            9304  25638.41  25621.08  14159.52 -1316.62  52211.85\n",
       "Asthma              9185  25635.25  25661.87  14241.68 -1520.42  52181.84\n",
       "Arthritis           9308  25497.33  25581.76  14276.53 -1130.00  52170.04\n",
       "Hypertension        9245  25497.10  25275.67  14305.40 -1660.01  52764.28\n",
       "Cancer              9227  25161.79  24910.98  14200.27 -2008.49  52373.03"
      ]
     },
     "execution_count": 26,
     "metadata": {},
     "output_type": "execute_result"
    }
   ],
   "source": [
    "df.groupby('Medical Condition')['Billing Amount'].agg(['count','mean','median','std','min','max']).sort_values('mean', ascending=False).round(2)"
   ]
  },
  {
   "cell_type": "markdown",
   "id": "226eda26-6a6d-42c2-a4a7-8a5f528a9dcb",
   "metadata": {},
   "source": [
    "### 12. How do insurance providers impact patient billing?"
   ]
  },
  {
   "cell_type": "code",
   "execution_count": 27,
   "id": "aa7f1971-ca5c-4305-8944-731dc4a9704b",
   "metadata": {
    "execution": {
     "iopub.execute_input": "2025-09-07T08:47:57.988879Z",
     "iopub.status.busy": "2025-09-07T08:47:57.988879Z",
     "iopub.status.idle": "2025-09-07T08:47:58.031284Z",
     "shell.execute_reply": "2025-09-07T08:47:58.030276Z",
     "shell.execute_reply.started": "2025-09-07T08:47:57.988879Z"
    }
   },
   "outputs": [
    {
     "data": {
      "text/html": [
       "<div>\n",
       "<style scoped>\n",
       "    .dataframe tbody tr th:only-of-type {\n",
       "        vertical-align: middle;\n",
       "    }\n",
       "\n",
       "    .dataframe tbody tr th {\n",
       "        vertical-align: top;\n",
       "    }\n",
       "\n",
       "    .dataframe thead th {\n",
       "        text-align: right;\n",
       "    }\n",
       "</style>\n",
       "<table border=\"1\" class=\"dataframe\">\n",
       "  <thead>\n",
       "    <tr style=\"text-align: right;\">\n",
       "      <th></th>\n",
       "      <th>count</th>\n",
       "      <th>mean</th>\n",
       "      <th>median</th>\n",
       "      <th>std</th>\n",
       "    </tr>\n",
       "    <tr>\n",
       "      <th>Insurance Provider</th>\n",
       "      <th></th>\n",
       "      <th></th>\n",
       "      <th></th>\n",
       "      <th></th>\n",
       "    </tr>\n",
       "  </thead>\n",
       "  <tbody>\n",
       "    <tr>\n",
       "      <th>Medicare</th>\n",
       "      <td>11154</td>\n",
       "      <td>25615.99</td>\n",
       "      <td>25592.81</td>\n",
       "      <td>14142.48</td>\n",
       "    </tr>\n",
       "    <tr>\n",
       "      <th>Blue Cross</th>\n",
       "      <td>11059</td>\n",
       "      <td>25613.01</td>\n",
       "      <td>25594.70</td>\n",
       "      <td>14113.62</td>\n",
       "    </tr>\n",
       "    <tr>\n",
       "      <th>Aetna</th>\n",
       "      <td>10913</td>\n",
       "      <td>25553.29</td>\n",
       "      <td>25786.39</td>\n",
       "      <td>14269.23</td>\n",
       "    </tr>\n",
       "    <tr>\n",
       "      <th>Cigna</th>\n",
       "      <td>11249</td>\n",
       "      <td>25525.77</td>\n",
       "      <td>25545.20</td>\n",
       "      <td>14241.21</td>\n",
       "    </tr>\n",
       "    <tr>\n",
       "      <th>UnitedHealthcare</th>\n",
       "      <td>11125</td>\n",
       "      <td>25389.17</td>\n",
       "      <td>25185.49</td>\n",
       "      <td>14291.57</td>\n",
       "    </tr>\n",
       "  </tbody>\n",
       "</table>\n",
       "</div>"
      ],
      "text/plain": [
       "                    count      mean    median       std\n",
       "Insurance Provider                                     \n",
       "Medicare            11154  25615.99  25592.81  14142.48\n",
       "Blue Cross          11059  25613.01  25594.70  14113.62\n",
       "Aetna               10913  25553.29  25786.39  14269.23\n",
       "Cigna               11249  25525.77  25545.20  14241.21\n",
       "UnitedHealthcare    11125  25389.17  25185.49  14291.57"
      ]
     },
     "execution_count": 27,
     "metadata": {},
     "output_type": "execute_result"
    }
   ],
   "source": [
    "df.groupby('Insurance Provider')['Billing Amount'].agg(['count','mean','median','std']).sort_values('mean', ascending=False).round(2)"
   ]
  },
  {
   "cell_type": "code",
   "execution_count": 28,
   "id": "6ee538b0-6bb7-4891-82c8-1cf23d89c459",
   "metadata": {
    "execution": {
     "iopub.execute_input": "2025-09-07T08:47:58.035801Z",
     "iopub.status.busy": "2025-09-07T08:47:58.033284Z",
     "iopub.status.idle": "2025-09-07T08:47:58.044443Z",
     "shell.execute_reply": "2025-09-07T08:47:58.043433Z",
     "shell.execute_reply.started": "2025-09-07T08:47:58.035801Z"
    }
   },
   "outputs": [],
   "source": [
    "df['Age Group']=df['Age Group'].astype('object')"
   ]
  },
  {
   "cell_type": "code",
   "execution_count": 29,
   "id": "8993bd2d-1cf5-4f64-85f7-35010c1b7889",
   "metadata": {
    "execution": {
     "iopub.execute_input": "2025-09-07T08:47:58.050381Z",
     "iopub.status.busy": "2025-09-07T08:47:58.048372Z",
     "iopub.status.idle": "2025-09-07T08:47:58.146310Z",
     "shell.execute_reply": "2025-09-07T08:47:58.142783Z",
     "shell.execute_reply.started": "2025-09-07T08:47:58.050381Z"
    }
   },
   "outputs": [
    {
     "name": "stdout",
     "output_type": "stream",
     "text": [
      "<class 'pandas.core.frame.DataFrame'>\n",
      "RangeIndex: 55500 entries, 0 to 55499\n",
      "Data columns (total 18 columns):\n",
      " #   Column              Non-Null Count  Dtype         \n",
      "---  ------              --------------  -----         \n",
      " 0   Name                55500 non-null  object        \n",
      " 1   Age                 55500 non-null  int64         \n",
      " 2   Gender              55500 non-null  object        \n",
      " 3   Blood Type          55500 non-null  object        \n",
      " 4   Medical Condition   55500 non-null  object        \n",
      " 5   Date of Admission   55500 non-null  datetime64[ns]\n",
      " 6   Doctor              55500 non-null  object        \n",
      " 7   Hospital            55500 non-null  object        \n",
      " 8   Insurance Provider  55500 non-null  object        \n",
      " 9   Billing Amount      55500 non-null  float64       \n",
      " 10  Room Number         55500 non-null  int64         \n",
      " 11  Admission Type      55500 non-null  object        \n",
      " 12  Discharge Date      55500 non-null  datetime64[ns]\n",
      " 13  Medication          55500 non-null  object        \n",
      " 14  Test Results        55500 non-null  object        \n",
      " 15  Age Group           55500 non-null  object        \n",
      " 16  Year                55500 non-null  int32         \n",
      " 17  Length of Stay      55500 non-null  int64         \n",
      "dtypes: datetime64[ns](2), float64(1), int32(1), int64(3), object(11)\n",
      "memory usage: 7.4+ MB\n"
     ]
    }
   ],
   "source": [
    "df.info()"
   ]
  },
  {
   "cell_type": "markdown",
   "id": "b5f68ae5-fd1d-48d3-aee9-fec4eb2412f4",
   "metadata": {},
   "source": [
    "### Finding and removing Outliers"
   ]
  },
  {
   "cell_type": "code",
   "execution_count": 30,
   "id": "9ef3aa84-a49c-4eee-a787-eb85f81e2ad6",
   "metadata": {
    "execution": {
     "iopub.execute_input": "2025-09-07T08:47:58.151552Z",
     "iopub.status.busy": "2025-09-07T08:47:58.150519Z",
     "iopub.status.idle": "2025-09-07T08:48:03.106688Z",
     "shell.execute_reply": "2025-09-07T08:48:03.105672Z",
     "shell.execute_reply.started": "2025-09-07T08:47:58.151552Z"
    }
   },
   "outputs": [],
   "source": [
    "import pandas as pd      \n",
    "import numpy as np     \n",
    "import seaborn as sns \n",
    "import matplotlib.pyplot as plt  "
   ]
  },
  {
   "cell_type": "code",
   "execution_count": 31,
   "id": "6dab3470-a92e-47da-8fd1-c7eb671920b0",
   "metadata": {
    "execution": {
     "iopub.execute_input": "2025-09-07T08:48:03.111924Z",
     "iopub.status.busy": "2025-09-07T08:48:03.109924Z",
     "iopub.status.idle": "2025-09-07T08:48:05.910758Z",
     "shell.execute_reply": "2025-09-07T08:48:05.908881Z",
     "shell.execute_reply.started": "2025-09-07T08:48:03.111924Z"
    }
   },
   "outputs": [
    {
     "name": "stdout",
     "output_type": "stream",
     "text": [
      "Age: 3  outliers\n",
      "Billing Amount: 3  outliers\n",
      "Room Number: 3  outliers\n",
      "Year: 3  outliers\n",
      "Length of Stay: 3  outliers\n"
     ]
    },
    {
     "data": {
      "text/plain": [
       "<Figure size 500x300 with 0 Axes>"
      ]
     },
     "execution_count": 31,
     "metadata": {},
     "output_type": "execute_result"
    },
    {
     "data": {
      "text/plain": [
       "<Axes: xlabel='Age'>"
      ]
     },
     "execution_count": 31,
     "metadata": {},
     "output_type": "execute_result"
    },
    {
     "data": {
      "text/plain": [
       "Text(0.5, 1.0, 'Boxplot of Age')"
      ]
     },
     "execution_count": 31,
     "metadata": {},
     "output_type": "execute_result"
    },
    {
     "data": {
      "image/png": "[encoded data removed]",
      "text/plain": [
       "<Figure size 500x300 with 1 Axes>"
      ]
     },
     "metadata": {},
     "output_type": "display_data"
    },
    {
     "data": {
      "text/plain": [
       "<Figure size 500x300 with 0 Axes>"
      ]
     },
     "execution_count": 31,
     "metadata": {},
     "output_type": "execute_result"
    },
    {
     "data": {
      "text/plain": [
       "<Axes: xlabel='Billing Amount'>"
      ]
     },
     "execution_count": 31,
     "metadata": {},
     "output_type": "execute_result"
    },
    {
     "data": {
      "text/plain": [
       "Text(0.5, 1.0, 'Boxplot of Billing Amount')"
      ]
     },
     "execution_count": 31,
     "metadata": {},
     "output_type": "execute_result"
    },
    {
     "data": {
      "image/png": "[encoded data removed]",
      "text/plain": [
       "<Figure size 500x300 with 1 Axes>"
      ]
     },
     "metadata": {},
     "output_type": "display_data"
    },
    {
     "data": {
      "text/plain": [
       "<Figure size 500x300 with 0 Axes>"
      ]
     },
     "execution_count": 31,
     "metadata": {},
     "output_type": "execute_result"
    },
    {
     "data": {
      "text/plain": [
       "<Axes: xlabel='Room Number'>"
      ]
     },
     "execution_count": 31,
     "metadata": {},
     "output_type": "execute_result"
    },
    {
     "data": {
      "text/plain": [
       "Text(0.5, 1.0, 'Boxplot of Room Number')"
      ]
     },
     "execution_count": 31,
     "metadata": {},
     "output_type": "execute_result"
    },
    {
     "data": {
      "image/png": "[encoded data removed]",
      "text/plain": [
       "<Figure size 500x300 with 1 Axes>"
      ]
     },
     "metadata": {},
     "output_type": "display_data"
    },
    {
     "data": {
      "text/plain": [
       "<Figure size 500x300 with 0 Axes>"
      ]
     },
     "execution_count": 31,
     "metadata": {},
     "output_type": "execute_result"
    },
    {
     "data": {
      "text/plain": [
       "<Axes: xlabel='Year'>"
      ]
     },
     "execution_count": 31,
     "metadata": {},
     "output_type": "execute_result"
    },
    {
     "data": {
      "text/plain": [
       "Text(0.5, 1.0, 'Boxplot of Year')"
      ]
     },
     "execution_count": 31,
     "metadata": {},
     "output_type": "execute_result"
    },
    {
     "data": {
      "image/png": "[encoded data removed]",
      "text/plain": [
       "<Figure size 500x300 with 1 Axes>"
      ]
     },
     "metadata": {},
     "output_type": "display_data"
    },
    {
     "data": {
      "text/plain": [
       "<Figure size 500x300 with 0 Axes>"
      ]
     },
     "execution_count": 31,
     "metadata": {},
     "output_type": "execute_result"
    },
    {
     "data": {
      "text/plain": [
       "<Axes: xlabel='Length of Stay'>"
      ]
     },
     "execution_count": 31,
     "metadata": {},
     "output_type": "execute_result"
    },
    {
     "data": {
      "text/plain": [
       "Text(0.5, 1.0, 'Boxplot of Length of Stay')"
      ]
     },
     "execution_count": 31,
     "metadata": {},
     "output_type": "execute_result"
    },
    {
     "data": {
      "image/png": "[encoded data removed]",
      "text/plain": [
       "<Figure size 500x300 with 1 Axes>"
      ]
     },
     "metadata": {},
     "output_type": "display_data"
    }
   ],
   "source": [
    "# Outlier Analysis & Handling \n",
    "#=================================\n",
    "\n",
    "# Select only numeric columns \n",
    "num_cols=df.select_dtypes(include=np.number).columns\n",
    "\n",
    "# 1. IQR method to detect outliers \n",
    "outliers={}\n",
    "for col in num_cols: \n",
    "    Q1=df[col].quantile(0.25)\n",
    "    Q3=df[col].quantile(0.75)\n",
    "    IQR=Q3-Q1 \n",
    "    lower_bound=Q1-1.5*IQR\n",
    "    upper_bound=Q3+1.5*IQR\n",
    "\n",
    "    outlier = df[(df[col] < lower_bound) | (df[col] > upper_bound)]\n",
    "    outliers[col] = {\"Total Outliers\": outlier.shape[0],\"Lower Bound\": lower_bound,\"Upper Bound\": upper_bound}\n",
    "    print(f\"{col}: {len(outliers[col])}  outliers\")\n",
    "\n",
    "#=========================== \n",
    "# 2. Boxplot visualization \n",
    "for col in num_cols: \n",
    "    plt.figure(figsize=(5,3))\n",
    "    sns.boxplot(x=df[col])\n",
    "    plt.title(f\"Boxplot of {col}\")\n",
    "    plt.show();\n"
   ]
  },
  {
   "cell_type": "markdown",
   "id": "16b08c73-e5d3-4da2-b7e2-43f1a300e2b1",
   "metadata": {},
   "source": [
    "#### Column Description"
   ]
  },
  {
   "cell_type": "markdown",
   "id": "9552d437-e376-4351-9b65-b8f68dea7738",
   "metadata": {
    "execution": {
     "iopub.execute_input": "2025-09-01T06:53:50.011371Z",
     "iopub.status.busy": "2025-09-01T06:53:50.011371Z",
     "iopub.status.idle": "2025-09-01T06:53:50.027436Z",
     "shell.execute_reply": "2025-09-01T06:53:50.025918Z",
     "shell.execute_reply.started": "2025-09-01T06:53:50.011371Z"
    }
   },
   "source": [
    "| Column Name         | Missing Values | Data Type     | Cleaning Required          | Importance |\n",
    "|---------------------|----------------|---------------|----------------------------|------------|\n",
    "| Name                | 0              | object        | Yes (remove duplicates, standardize formatting if needed) | Identifier – not useful for prediction, but helps in patient tracking |\n",
    "| Age                 | 0              | int64         | Yes (check outliers, unrealistic ages) | Demographic – key factor in health risks, billing, treatment plans |\n",
    "| Gender              | 0              | object        | Yes (standardize categories: Male/Female) | Important for analysis – gender-based health trends |\n",
    "| Blood Type          | 0              | object        | Yes (standardize categories, e.g., \"A+\", \"A +\") | Useful for patient grouping & medical compatibility |\n",
    "| Medical Condition   | 0              | object        | Yes (remove spelling inconsistencies, unify terms) | Core predictor – type of illness directly affects treatment |\n",
    "| Date of Admission   | 0              | datetime64[ns]| No                         | Enables time-series analysis (seasonal admissions, yearly trends) |\n",
    "| Doctor              | 0              | object        | Yes (standardize names if needed) | Identifies treating doctor – useful in performance & workload analysis |\n",
    "| Hospital            | 0              | object        | Yes (standardize hospital names) | Facility-level comparison & performance tracking |\n",
    "| Insurance Provider  | 0              | object        | Yes (standardize names)    | Important for billing & claims analysis |\n",
    "| Billing Amount      | 0              | float64       | Yes (outliers, missing values if any) | Financial metric – crucial for hospital revenue & cost trends |\n",
    "| Room Number         | 0              | int64         | Yes (check duplicates if unique expected) | Operational – identifies patient allocation |\n",
    "| Admission Type      | 0              | object        | Yes (standardize values: Emergency, Routine, Urgent) | Key factor in treatment urgency & length of stay |\n",
    "| Discharge Date      | 0              | datetime64[ns]| No                         | Used to calculate **Length of Stay** |\n",
    "| Medication          | 0              | object        | Yes (standardize drug names) | Clinical factor – affects treatment outcome |\n",
    "| Test Results        | 0              | object        | Yes (standardize terms: Normal/Abnormal) | Indicates patient condition severity |\n",
    "| Age Group           | 0              | object        | No (already categorized)   | Useful for age-based grouping in analysis |\n",
    "| Year                | 0              | int32         | No                         | Useful for trend analysis over years |\n",
    "| Length of Stay      | 0              | int64         | Yes (check outliers, e.g., negative/too high values) | Operational + financial impact – directly linked to billing |\n"
   ]
  },
  {
   "cell_type": "code",
   "execution_count": null,
   "id": "aa35df11-f2ae-47e5-ae16-b66b000bf392",
   "metadata": {},
   "outputs": [],
   "source": []
  },
  {
   "cell_type": "code",
   "execution_count": null,
   "id": "39a92030-ed1e-4c2c-8bb9-9e04cf6aa145",
   "metadata": {},
   "outputs": [],
   "source": []
  },
  {
   "cell_type": "code",
   "execution_count": null,
   "id": "42e5a80a-94f6-4d6b-92a8-e2d88be2e29d",
   "metadata": {},
   "outputs": [],
   "source": []
  }
 ],
 "metadata": {
  "kernelspec": {
   "display_name": "Python 3 (ipykernel)",
   "language": "python",
   "name": "python3"
  },
  "language_info": {
   "codemirror_mode": {
    "name": "ipython",
    "version": 3
   },
   "file_extension": ".py",
   "mimetype": "text/x-python",
   "name": "python",
   "nbconvert_exporter": "python",
   "pygments_lexer": "ipython3",
   "version": "3.12.7"
  }
 },
 "nbformat": 4,
 "nbformat_minor": 5
}
